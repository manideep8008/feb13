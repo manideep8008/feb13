{
 "cells": [
  {
   "cell_type": "markdown",
   "id": "7db3a2c7",
   "metadata": {},
   "source": [
    "Ans1:\n",
    "\n",
    "Using the Exception class when creating a Custom Exception is essential because it provides a solid foundation for error handling and adheres to Python's exception hierarchy. By inheriting from Exception, our Custom Exception gains access to crucial functionalities like traceback information, error chaining, and compatibility with standard exception handling mechanisms. This ensures consistency in handling both built-in and custom exceptions, facilitating maintainable and structured code."
   ]
  },
  {
   "cell_type": "markdown",
   "id": "384ce525",
   "metadata": {},
   "source": [
    "Ans2"
   ]
  },
  {
   "cell_type": "code",
   "execution_count": null,
   "id": "f7bfd7df",
   "metadata": {
    "scrolled": false
   },
   "outputs": [],
   "source": [
    "\n",
    "def print_exception_hierarchy(exception_class, indent=0):\n",
    "    print(' ' * indent + str(exception_class))\n",
    "    for subclass in exception_class.__subclasses__():\n",
    "        print_exception_hierarchy(subclass, indent + 4)\n",
    "\n",
    "if __name__ == \"__main__\":\n",
    "    print(\"Python Exception Hierarchy:\")\n",
    "    print_exception_hierarchy(BaseException)"
   ]
  },
  {
   "cell_type": "markdown",
   "id": "b19e8338",
   "metadata": {},
   "source": [
    "Ans3:\n",
    "\n",
    "The ArithmeticError class in Python represents errors that occur during arithmetic operations. Two common errors defined in this class are:\n",
    "\n",
    "ZeroDivisionError: Raised when attempting to divide a number by zero.\n",
    "OverflowError: Raised when the result of an arithmetic operation is too large to be expressed within the available memory."
   ]
  },
  {
   "cell_type": "code",
   "execution_count": null,
   "id": "34ccaf16",
   "metadata": {},
   "outputs": [],
   "source": [
    "try:\n",
    "    result = 10 / 0\n",
    "except ZeroDivisionError as e:\n",
    "    print(\"Error:\", e) \n",
    "    \n",
    "\n",
    "import sys\n",
    "\n",
    "try:\n",
    "    result = sys.maxsize + 1\n",
    "except OverflowError as e:\n",
    "    print(\"Error:\", e)  #"
   ]
  },
  {
   "cell_type": "markdown",
   "id": "275503e5",
   "metadata": {},
   "source": [
    "Ans4:\n",
    "The LookupError class in Python is used to handle errors that occur when a lookup or retrieval operation fails. It serves as a base class for various lookup-related exceptions. Two common subclasses are KeyError and IndexError.\n",
    "\n",
    "KeyError: Raised when a dictionary key is not found.\n",
    "IndexError: Raised when trying to access an index that is out of range in a sequence (list, tuple, etc.).\n",
    "\n",
    "\n",
    "    "
   ]
  },
  {
   "cell_type": "code",
   "execution_count": null,
   "id": "7cdc20a1",
   "metadata": {},
   "outputs": [],
   "source": [
    "my_dict = {\"apple\": 1, \"banana\": 2}\n",
    "try:\n",
    "    value = my_dict[\"orange\"]\n",
    "except KeyError as e:\n",
    "    print(\"Error:\", e)  # Output: Error: 'orange'\n",
    "\n",
    "    \n",
    "my_list = [1, 2, 3]\n",
    "try:\n",
    "    value = my_list[5]\n",
    "except IndexError as e:\n",
    "    print(\"Error:\", e)  # Output: Error: list index out of range\n"
   ]
  },
  {
   "cell_type": "markdown",
   "id": "0c88bf12",
   "metadata": {},
   "source": [
    "Ans5:\n",
    "ImportError is a Python exception raised when there is an issue while importing a module or a specific attribute from a module. It occurs if the module is not found, or there are errors in the module's code during the import process.\n",
    "\n",
    "ModuleNotFoundError is a subclass of ImportError introduced in Python 3.6. It specifically indicates that the requested module could not be found in the current environment. Prior to Python 3.6, the standard ImportError was used for this purpose. With the introduction of ModuleNotFoundError, it became easier to distinguish between a missing module and other import-related errors, improving error handling and debugging."
   ]
  },
  {
   "cell_type": "markdown",
   "id": "bbb3ff63",
   "metadata": {},
   "source": [
    "Specific Exceptions: Use specific exception classes rather than catching generic ones. This enhances clarity and targeted error handling.\n",
    "\n",
    "Try-Except Blocks: Limit the try-except blocks to the minimum code that might raise exceptions, avoiding excessive catching.\n",
    "\n",
    "Error Messages: Include informative error messages to aid debugging and provide relevant information to users.\n",
    "\n",
    "Avoid Bare Excepts: Avoid using bare except clauses, as they catch all exceptions, making it hard to identify and handle issues.\n",
    "\n",
    "Finally Block: Use the finally block for cleanup tasks that must be executed regardless of whether an exception occurred or not.\n",
    "\n",
    "Multiple Excepts: Handle multiple exceptions separately rather than combining them in a single block.\n",
    "\n",
    "Custom Exceptions: Create custom exception classes for specific application-level errors, making code more maintainable.\n",
    "\n",
    "Logging: Utilize logging to record exception details for analysis and troubleshooting.\n",
    "\n",
    "Graceful Degradation: Implement graceful degradation to handle recoverable errors without program termination.\n",
    "\n",
    "Avoid Swallowing Exceptions: Avoid ignoring exceptions silently as it can lead to unnoticed errors in the code flow."
   ]
  }
 ],
 "metadata": {
  "kernelspec": {
   "display_name": "Python 3 (ipykernel)",
   "language": "python",
   "name": "python3"
  },
  "language_info": {
   "codemirror_mode": {
    "name": "ipython",
    "version": 3
   },
   "file_extension": ".py",
   "mimetype": "text/x-python",
   "name": "python",
   "nbconvert_exporter": "python",
   "pygments_lexer": "ipython3",
   "version": "3.9.13"
  }
 },
 "nbformat": 4,
 "nbformat_minor": 5
}
